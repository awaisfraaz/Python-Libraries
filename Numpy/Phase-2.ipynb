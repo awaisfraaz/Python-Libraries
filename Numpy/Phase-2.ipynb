{
 "cells": [
  {
   "cell_type": "code",
   "execution_count": 2,
   "id": "b1087421",
   "metadata": {},
   "outputs": [],
   "source": [
    "import numpy as np\n",
    "array=np.array([1,2,3,4,5,6,7,8,9,10])"
   ]
  },
  {
   "cell_type": "code",
   "execution_count": 5,
   "id": "23b46441",
   "metadata": {},
   "outputs": [
    {
     "data": {
      "text/plain": [
       "np.int64(10)"
      ]
     },
     "execution_count": 5,
     "metadata": {},
     "output_type": "execute_result"
    }
   ],
   "source": [
    "array[1:11:2]\n",
    "array[-1]"
   ]
  },
  {
   "cell_type": "code",
   "execution_count": 8,
   "id": "e0b8b9a9",
   "metadata": {},
   "outputs": [
    {
     "name": "stdout",
     "output_type": "stream",
     "text": [
      "[3 6 9]\n",
      "6\n"
     ]
    }
   ],
   "source": [
    "#2d array indexing and slicing \n",
    "array_2d=np.array([[1,2,3],[4,5,6],[7,8,9]])\n",
    "print(array_2d[:,2])    \n",
    "print(array_2d[1,2])"
   ]
  },
  {
   "cell_type": "code",
   "execution_count": 9,
   "id": "20b27556",
   "metadata": {},
   "outputs": [
    {
     "name": "stdout",
     "output_type": "stream",
     "text": [
      "[ 1  2  3  4  5  6  7  8  9 10]\n"
     ]
    }
   ],
   "source": [
    "#sorting\n",
    "#sorting 1d\n",
    "unsorted_array=np.array([10,9,8,7,6,5,4,3,2,1])\n",
    "sorted_array=np.sort(unsorted_array)\n",
    "print(sorted_array)"
   ]
  },
  {
   "cell_type": "code",
   "execution_count": 11,
   "id": "2f83df7d",
   "metadata": {},
   "outputs": [
    {
     "name": "stdout",
     "output_type": "stream",
     "text": [
      "[[7 8 9]\n",
      " [4 5 6]\n",
      " [1 2 3]]\n"
     ]
    }
   ],
   "source": [
    "#sorting 2d\n",
    "unsorted_array_2d=np.array([[9,8,7],[6,5,4],[3,2,1]])\n",
    "sorted_array_2d=np.sort(unsorted_array_2d)\n",
    "print(sorted_array_2d)"
   ]
  },
  {
   "cell_type": "code",
   "execution_count": 18,
   "id": "7e4dde4f",
   "metadata": {},
   "outputs": [
    {
     "name": "stdout",
     "output_type": "stream",
     "text": [
      "[[3 2 1]\n",
      " [6 5 4]\n",
      " [9 8 7]]\n"
     ]
    }
   ],
   "source": [
    "#sorting 2d\n",
    "unsorted_array_2d = np.array([[9,8,7],[6,5,4],[3,2,1]])\n",
    "sorted_array_2d = np.sort(unsorted_array_2d,axis=0)\n",
    "print(sorted_array_2d)"
   ]
  },
  {
   "cell_type": "code",
   "execution_count": 19,
   "id": "514d1b9a",
   "metadata": {},
   "outputs": [
    {
     "name": "stdout",
     "output_type": "stream",
     "text": [
      "[ 2  4  6  8 10]\n"
     ]
    }
   ],
   "source": [
    "#Filtering the array \n",
    "\n",
    "array = np.array([1,2,3,4,5,6,7,8,9,10])\n",
    "filtered_array = array[array % 2 == 0]\n",
    "print(filtered_array)"
   ]
  },
  {
   "cell_type": "code",
   "execution_count": 20,
   "id": "55fdaf84",
   "metadata": {},
   "outputs": [
    {
     "name": "stdout",
     "output_type": "stream",
     "text": [
      "[ 2  4  6  8 10]\n"
     ]
    }
   ],
   "source": [
    "# filter with mask\n",
    "mask=array%2==0\n",
    "filtered_array=array[mask]\n",
    "print(filtered_array)"
   ]
  },
  {
   "cell_type": "code",
   "execution_count": 25,
   "id": "395d7e4d",
   "metadata": {},
   "outputs": [
    {
     "data": {
      "text/plain": [
       "array([ 2,  4,  6,  8, 10])"
      ]
     },
     "execution_count": 25,
     "metadata": {},
     "output_type": "execute_result"
    }
   ],
   "source": [
    "#where clause \n",
    "\n",
    "array = np.array([1,2,3,4,5,6,7,8,9,10])\n",
    "filtered_array = np.where(array % 2 == 0)\n",
    "array[filtered_array]"
   ]
  },
  {
   "cell_type": "code",
   "execution_count": 29,
   "id": "b885b716",
   "metadata": {},
   "outputs": [
    {
     "name": "stdout",
     "output_type": "stream",
     "text": [
      "[ 2  1  4  3  6  5  8  7 10  9]\n"
     ]
    }
   ],
   "source": [
    "condition=np.where(array%2==0)\n",
    "condition1=np.where(array%2!=0,array+1,array-1)\n",
    "print(condition1)"
   ]
  },
  {
   "cell_type": "code",
   "execution_count": 30,
   "id": "8bda064b",
   "metadata": {},
   "outputs": [
    {
     "name": "stdout",
     "output_type": "stream",
     "text": [
      "[ 1  2  3  4  5  6  7  8  9 10]\n"
     ]
    }
   ],
   "source": [
    "#adding and removing \n",
    "# merging\n",
    "\n",
    "array_1=np.array([1,2,3,4,5])\n",
    "array_2=np.array([6,7,8,9,10])\n",
    "merged_array=np.concatenate((array_1,array_2))\n",
    "print(merged_array)"
   ]
  },
  {
   "cell_type": "code",
   "execution_count": 32,
   "id": "4aee37f7",
   "metadata": {},
   "outputs": [
    {
     "name": "stdout",
     "output_type": "stream",
     "text": [
      "False\n",
      "[[1 2 3]\n",
      " [4 5 6]\n",
      " [7 8 9]]\n"
     ]
    }
   ],
   "source": [
    "#conpatibilty shapes \n",
    "a=np.array([1,2,3])\n",
    "b=np.array([4,5])\n",
    "print(a.shape==b.shape)\n",
    "\n",
    "# adding new row to matrix\n",
    "\n",
    "matrix=np.array([[1,2,3],[4,5,6]])\n",
    "new_row=np.array([7,8,9])\n",
    "matrix=np.vstack((matrix,new_row))\n",
    "print(matrix)"
   ]
  },
  {
   "cell_type": "code",
   "execution_count": 34,
   "id": "cbe2d8d6",
   "metadata": {},
   "outputs": [
    {
     "name": "stdout",
     "output_type": "stream",
     "text": [
      "[[1 2 3 7]\n",
      " [4 5 6 8]]\n"
     ]
    }
   ],
   "source": [
    "# adding new column \n",
    "\n",
    "matrix = np.array([[1, 2, 3], [4, 5, 6]])\n",
    "new_column = np.array([[7], [8]])  # Make sure new_column has 2 rows\n",
    "matrix = np.hstack((matrix, new_column))\n",
    "print(matrix)"
   ]
  },
  {
   "cell_type": "code",
   "execution_count": 35,
   "id": "2a17e27b",
   "metadata": {},
   "outputs": [
    {
     "name": "stdout",
     "output_type": "stream",
     "text": [
      "[[4 5 6]]\n",
      "[[1 3]\n",
      " [4 6]]\n"
     ]
    }
   ],
   "source": [
    "#deleteing \n",
    "matrix = np.array([[1, 2, 3], [4, 5, 6]])\n",
    "deleted_row = np.delete(matrix, 0, axis=0)\n",
    "deleted_column = np.delete(matrix, 1, axis=1)\n",
    "print(deleted_row)\n",
    "print(deleted_column)"
   ]
  },
  {
   "cell_type": "code",
   "execution_count": null,
   "id": "24e89348",
   "metadata": {},
   "outputs": [],
   "source": []
  }
 ],
 "metadata": {
  "kernelspec": {
   "display_name": "Python 3",
   "language": "python",
   "name": "python3"
  },
  "language_info": {
   "codemirror_mode": {
    "name": "ipython",
    "version": 3
   },
   "file_extension": ".py",
   "mimetype": "text/x-python",
   "name": "python",
   "nbconvert_exporter": "python",
   "pygments_lexer": "ipython3",
   "version": "3.12.4"
  }
 },
 "nbformat": 4,
 "nbformat_minor": 5
}
